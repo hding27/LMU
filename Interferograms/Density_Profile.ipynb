{
 "cells": [
  {
   "cell_type": "code",
   "execution_count": 1,
   "metadata": {
    "collapsed": true
   },
   "outputs": [],
   "source": [
    "% matplotlib inline\n",
    "import numpy as np\n",
    "import matplotlib.pyplot as plt\n"
   ]
  },
  {
   "cell_type": "code",
   "execution_count": 72,
   "metadata": {
    "collapsed": false
   },
   "outputs": [
    {
     "data": {
      "text/plain": [
       "[<matplotlib.lines.Line2D at 0x9a44588>]"
      ]
     },
     "execution_count": 72,
     "metadata": {},
     "output_type": "execute_result"
    },
    {
     "data": {
      "image/png": "[encoded data removed]",
      "text/plain": [
       "<matplotlib.figure.Figure at 0x8b71668>"
      ]
     },
     "metadata": {},
     "output_type": "display_data"
    }
   ],
   "source": [
    "lambda_probe = 0.88E-6\n",
    "\n",
    "shot = 1996\n",
    "pixel = 215\n",
    "resolution = 3.472 # um/pixel\n",
    "\n",
    "#name=\"1939_125L.dat\"\n",
    "name = str(shot) + \"_\" + str(pixel) + \".dat\"\n",
    "\n",
    "def zPosition(shot,pixel,resolution):\n",
    "    RunIndex = (shot + 1)//10 -194\n",
    "    BasePosition = RunIndex*600.0/resolution # the step size was 600 um\n",
    "    Z= (BasePosition + pixel)*resolution    \n",
    "    return Z\n",
    "\n",
    "def eDensity(name, lambda_probe, resolution):\n",
    "    array=np.loadtxt(name,skiprows=1)\n",
    "    length=len(array)\n",
    "    pad = np.zeros((499-length)/2)\n",
    "    array=np.concatenate([pad,array,pad])\n",
    "\n",
    "    c_vac = 299792458\n",
    "    epsilon0 = 8.854187817620E-12\n",
    "    m_e = 9.10938356E-31\n",
    "    q_e = 1.60217662E-19\n",
    "\n",
    "    w_l = 2 * np.pi * c_vac / lambda_probe\n",
    "    n_c = w_l**2 * epsilon0 * m_e / q_e**2 * 1E-24  # 1E18 cm^-3\n",
    "    factor = -lambda_probe * n_c / np.pi * 1E6/resolution\n",
    "    eDensity = np.asarray(array*factor)\n",
    "    return eDensity\n",
    "\n",
    "\n",
    "Z = zPosition(shot,pixel,resolution)\n",
    "eDens = eDensity(name, lambda_probe, resolution)\n",
    "plt.plot(eDens)"
   ]
  }
 ],
 "metadata": {
  "anaconda-cloud": {},
  "kernelspec": {
   "display_name": "Python [Root]",
   "language": "python",
   "name": "Python [Root]"
  },
  "language_info": {
   "codemirror_mode": {
    "name": "ipython",
    "version": 2
   },
   "file_extension": ".py",
   "mimetype": "text/x-python",
   "name": "python",
   "nbconvert_exporter": "python",
   "pygments_lexer": "ipython2",
   "version": "2.7.11"
  }
 },
 "nbformat": 4,
 "nbformat_minor": 0
}
