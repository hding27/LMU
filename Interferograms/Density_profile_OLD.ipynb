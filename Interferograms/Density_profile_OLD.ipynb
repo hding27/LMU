{
 "cells": [
  {
   "cell_type": "code",
   "execution_count": null,
   "metadata": {
    "collapsed": false
   },
   "outputs": [],
   "source": [
    "%matplotlib inline\n",
    "import matplotlib.pyplot as plt\n",
    "import numpy as np\n",
    "import mahotas as mh\n",
    "from numpy.fft import fft, fftshift, ifft, fft2, ifft2"
   ]
  },
  {
   "cell_type": "code",
   "execution_count": null,
   "metadata": {
    "collapsed": false
   },
   "outputs": [],
   "source": [
    "name0 = \"20161202_002_1689_Interferogram.png\"\n",
    "name1 = \"20161202_000_1881_Interferogram.png\"\n",
    "roiT = 450\n",
    "M = 384\n",
    "roiL = 600\n",
    "N = 512\n",
    "ROI = [roiT, roiL, roiT+M, roiL+N]\n",
    "#def PhaseMap(name, ROI):\n",
    "image_raw = mh.imread(name1)\n",
    "#fig = plt.figure(figsize=(18,18))\n",
    "#plt.pcolormesh(image_raw)\n",
    "image = np.double(image_raw[ROI[0]:ROI[2], ROI[1]:ROI[3]])"
   ]
  },
  {
   "cell_type": "code",
   "execution_count": null,
   "metadata": {
    "collapsed": false
   },
   "outputs": [],
   "source": [
    "IMA = fft2(image)\n",
    "fig = plt.figure(figsize=(18,18))\n",
    "plt.pcolormesh(np.log(abs(IMA)))\n",
    "[M,N] = image.shape\n",
    "Mask = np.zeros((M,N))\n",
    "Mask[330:360,50:90] = 1.\n",
    "Phase = np.angle(ifft2(IMA*Mask))\n",
    "fig = plt.figure(figsize=(18,18))\n",
    "plt.pcolormesh(Phase,cmap=\"Greys\")\n",
    "#return Phase"
   ]
  },
  {
   "cell_type": "code",
   "execution_count": null,
   "metadata": {
    "collapsed": false
   },
   "outputs": [],
   "source": [
    "BG = PhaseMap(name0,ROI)\n",
    "Phase = PhaseMap(name1,ROI)\n",
    "fig = plt.figure(figsize=(18,18))\n",
    "#plt.pcolormesh(np.log(abs(IMA*Mask)+1))\n",
    "\n",
    "\n",
    "plt.pcolormesh(np.unwrap(BG, 1))"
   ]
  },
  {
   "cell_type": "code",
   "execution_count": null,
   "metadata": {
    "collapsed": true
   },
   "outputs": [],
   "source": []
  },
  {
   "cell_type": "code",
   "execution_count": null,
   "metadata": {
    "collapsed": false
   },
   "outputs": [],
   "source": [
    "from scipy.ndimage import gaussian_filter as gf\n",
    "import phase_unwrapping \n",
    "name = \"20161202_000_1881_Interferogram.png\"\n",
    "image_raw = mh.imread(name)\n",
    "roiT = 450\n",
    "M = 384\n",
    "roiL = 600\n",
    "N = 512\n",
    "image = gf(np.double(image_raw[roiT:roiT+M, roiL:roiL+N]), 5)\n",
    "IMA = fft2(image)\n",
    "\n",
    "Mask = np.zeros((M,N))\n",
    "Mask[310:380,30:90] = 1\n",
    "\n",
    "angle = np.angle(ifft2(IMA*Mask))\n",
    "phs = phase_unwrapping.unwrap(angle)\n",
    "\n",
    "fig = plt.figure(figsize=(18,18))\n",
    "\n",
    "\n",
    "#plt.pcolormesh(np.log(abs(IMA*Mask)+1))\n",
    "plt.pcolormesh(phs)"
   ]
  },
  {
   "cell_type": "code",
   "execution_count": null,
   "metadata": {
    "collapsed": false
   },
   "outputs": [],
   "source": [
    "import scipy.misc as misc\n",
    "misc.imsave(\"test1.bmp\",image)"
   ]
  }
 ],
 "metadata": {
  "kernelspec": {
   "display_name": "Python [Root]",
   "language": "python",
   "name": "Python [Root]"
  },
  "language_info": {
   "codemirror_mode": {
    "name": "ipython",
    "version": 2
   },
   "file_extension": ".py",
   "mimetype": "text/x-python",
   "name": "python",
   "nbconvert_exporter": "python",
   "pygments_lexer": "ipython2",
   "version": "2.7.11"
  }
 },
 "nbformat": 4,
 "nbformat_minor": 0
}
