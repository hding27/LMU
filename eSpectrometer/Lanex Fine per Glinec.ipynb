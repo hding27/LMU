{
 "cells": [
  {
   "cell_type": "code",
   "execution_count": 1,
   "metadata": {
    "collapsed": true
   },
   "outputs": [],
   "source": [
    "%matplotlib inline\n",
    "import numpy as np\n",
    "import matplotlib.pyplot as plt"
   ]
  },
  {
   "cell_type": "markdown",
   "metadata": {},
   "source": [
    "according to Y. Glinec\n",
    "\n",
    "the stopping power of the LANEX-Fine is $ \\epsilon  \\mathop{dE} / \\mathop{dx} = 1.8 \\pm 0.2 \\; \\mathrm{MeV/cm} $,\n",
    "which creats a photon yield of $ \\mathop{d N_{cr}} / \\mathop {d N_e} = E^{-1}_{ph} \\mathop{\\delta x} \\epsilon  \\mathop{dE} / \\mathop{dx} $, with $E_{ph} = 2.27 \\; \\mathrm{eV}$ being the photon energy of 546 nm and $ \\mathop{\\delta x} = h_s / ( \\rho_{GOS} \\cos \\theta) $ being the equivalent thickness of the pure GOS. Taking into account the transmission output factor $\\zeta = 22\\%$ and the Lambertian distribution of light (a normalization by $ \\pi = \\int_0^{2\\pi} \\mathop{d \\phi} \\int_0^{\\pi/2}\\cos\\theta \\sin\\theta \\mathop{d \\theta} $), one can conclude that the absolute screen calibration"
   ]
  },
  {
   "cell_type": "code",
   "execution_count": 2,
   "metadata": {
    "collapsed": false
   },
   "outputs": [
    {
     "name": "stdout",
     "output_type": "stream",
     "text": [
      "1.53726971142\n"
     ]
    }
   ],
   "source": [
    "de_dx = 1.8E6 # stopping power of the GOS in MeV/cm\n",
    "E_ph = 2.27 # photon energy @ 546 nm in eV\n",
    "zeta = 0.22 # screnn transmission\n",
    "h_s = 33.0E-3 # surface density of GOS in in g*cm^-2\n",
    "rho_GOS = 7.44 # density of GOS in g*cm^-3\n",
    "q_e = 1.60217662E-7 # charge of an electron in pC\n",
    "AOI = 22*np.pi/180\n",
    "\n",
    "Calib_LanexFine = zeta/E_ph/q_e*h_s/rho_GOS*de_dx/np.pi\n",
    "print Calib_LanexFine*1.0E-9"
   ]
  },
  {
   "cell_type": "markdown",
   "metadata": {},
   "source": [
    "which A. Buck quoted to support his measurement of 1.75\n",
    "\n",
    "Alternatively, one can (as T. Kurz does) take the experimental data reported in the same paper"
   ]
  },
  {
   "cell_type": "code",
   "execution_count": 3,
   "metadata": {
    "collapsed": false
   },
   "outputs": [
    {
     "name": "stdout",
     "output_type": "stream",
     "text": [
      "1.05327573866\n"
     ]
    }
   ],
   "source": [
    "count = 1.6E-3 # value reported in Fig.4 of Glinec paper\n",
    "sA = 2.0E-3 # solid angle of the CCD\n",
    "eta = 0.26/7.0 # quantum efficiency of the andor DV420-FI, and the number of electrons to create a count\n",
    "ToOL = 0.95*0.95*0.2 # transmission of the optical line, including lens, quartz window, and the interference filter\n",
    "AoO = 45*np.pi/180. # angle of observation\n",
    "\n",
    "Calibex_LanexFine = count/(q_e*sA*eta*ToOL*np.cos(AoO))*1.0E-9\n",
    "print(Calibex_LanexFine)"
   ]
  },
  {
   "cell_type": "markdown",
   "metadata": {},
   "source": [
    "which is close to the value of T. Kurz's LAEX-Fine of 0.96"
   ]
  }
 ],
 "metadata": {
  "anaconda-cloud": {},
  "kernelspec": {
   "display_name": "Python [Root]",
   "language": "python",
   "name": "Python [Root]"
  },
  "language_info": {
   "codemirror_mode": {
    "name": "ipython",
    "version": 2
   },
   "file_extension": ".py",
   "mimetype": "text/x-python",
   "name": "python",
   "nbconvert_exporter": "python",
   "pygments_lexer": "ipython2",
   "version": "2.7.11"
  }
 },
 "nbformat": 4,
 "nbformat_minor": 0
}
